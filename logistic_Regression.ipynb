{
  "cells": [
    {
      "cell_type": "markdown",
      "metadata": {
        "id": "view-in-github",
        "colab_type": "text"
      },
      "source": [
        "<a href=\"https://colab.research.google.com/github/the-confused-genius/sales-prediction/blob/main/logistic_Regression.ipynb\" target=\"_parent\"><img src=\"https://colab.research.google.com/assets/colab-badge.svg\" alt=\"Open In Colab\"/></a>"
      ]
    },
    {
      "cell_type": "markdown",
      "metadata": {
        "id": "omErtOo4gUfs"
      },
      "source": [
        "#Sales Prediction from existing customers\n",
        "Using logistic Regression"
      ]
    },
    {
      "cell_type": "markdown",
      "metadata": {
        "id": "P4ZPM6eigREi"
      },
      "source": [
        "##Importing the libraries "
      ]
    },
    {
      "cell_type": "code",
      "execution_count": null,
      "metadata": {
        "id": "SvEA5eblf_0I"
      },
      "outputs": [],
      "source": [
        "import numpy as np\n",
        "import pandas as pd \n",
        "import warnings\n",
        "warnings.filterwarnings('ignore')"
      ]
    },
    {
      "cell_type": "markdown",
      "metadata": {
        "id": "r9WA4IECgo1i"
      },
      "source": [
        "##Choose Dataset file from local Directory \n",
        "or from the given github link"
      ]
    },
    {
      "cell_type": "code",
      "execution_count": null,
      "metadata": {
        "id": "PemSsWC9glIU"
      },
      "outputs": [],
      "source": [
        "#from google.colab import files\n",
        "#uploaded_file = files.upload()\n",
        "link = 'https://raw.githubusercontent.com/the-confused-genius/sales-prediction/main/Sales.csv'"
      ]
    },
    {
      "cell_type": "markdown",
      "source": [
        "#Loading the dataset into the memory"
      ],
      "metadata": {
        "id": "UDzfd6PVwu1M"
      }
    },
    {
      "cell_type": "code",
      "execution_count": null,
      "metadata": {
        "id": "0T5Emhvcg-dE",
        "colab": {
          "base_uri": "https://localhost:8080/"
        },
        "outputId": "6d82f9ae-834d-47d9-9e06-595074e7850f"
      },
      "outputs": [
        {
          "output_type": "stream",
          "name": "stdout",
          "text": [
            "      User ID  Gender  Age  EstimatedSalary  Purchased\n",
            "0    15624510    Male   19            19000          0\n",
            "1    15810944    Male   35            20000          0\n",
            "2    15668575  Female   26            43000          0\n",
            "3    15603246  Female   27            57000          0\n",
            "4    15804002    Male   19            76000          0\n",
            "..        ...     ...  ...              ...        ...\n",
            "395  15691863  Female   46            41000          1\n",
            "396  15706071    Male   51            23000          1\n",
            "397  15654296  Female   50            20000          1\n",
            "398  15755018    Male   36            33000          0\n",
            "399  15594041  Female   49            36000          1\n",
            "\n",
            "[400 rows x 5 columns]\n"
          ]
        }
      ],
      "source": [
        "df = pd.read_csv(link)\n",
        "print(df)"
      ]
    },
    {
      "cell_type": "markdown",
      "source": [
        "#Summarizing the dataset "
      ],
      "metadata": {
        "id": "Sqc6Wszmw_0P"
      }
    },
    {
      "cell_type": "code",
      "source": [
        "print(\"The shape of the dataset is \",df.shape)\n",
        "print(\"\\n\\nChecking for null values in the dataset\")\n",
        "print(df.isna().sum())\n",
        "print(\"\\n\\nChecking the datatype of each column\")\n",
        "df.info()"
      ],
      "metadata": {
        "colab": {
          "base_uri": "https://localhost:8080/"
        },
        "id": "06dcyrMYwkir",
        "outputId": "6e22e858-b36e-48e2-940d-0b774c94e42d"
      },
      "execution_count": null,
      "outputs": [
        {
          "output_type": "stream",
          "name": "stdout",
          "text": [
            "The shape of the dataset is  (400, 5)\n",
            "\n",
            "\n",
            "Checking for null values in the dataset\n",
            "User ID            0\n",
            "Gender             0\n",
            "Age                0\n",
            "EstimatedSalary    0\n",
            "Purchased          0\n",
            "dtype: int64\n",
            "\n",
            "\n",
            "Checking the datatype of each column\n",
            "<class 'pandas.core.frame.DataFrame'>\n",
            "RangeIndex: 400 entries, 0 to 399\n",
            "Data columns (total 5 columns):\n",
            " #   Column           Non-Null Count  Dtype \n",
            "---  ------           --------------  ----- \n",
            " 0   User ID          400 non-null    int64 \n",
            " 1   Gender           400 non-null    object\n",
            " 2   Age              400 non-null    int64 \n",
            " 3   EstimatedSalary  400 non-null    int64 \n",
            " 4   Purchased        400 non-null    int64 \n",
            "dtypes: int64(4), object(1)\n",
            "memory usage: 15.8+ KB\n"
          ]
        }
      ]
    },
    {
      "cell_type": "markdown",
      "source": [
        "#Changing the object type into integer"
      ],
      "metadata": {
        "id": "WqTpyW6Zx3qr"
      }
    },
    {
      "cell_type": "code",
      "source": [
        "print(df.Gender.value_counts())"
      ],
      "metadata": {
        "colab": {
          "base_uri": "https://localhost:8080/"
        },
        "id": "ZaAqGmIgxxPc",
        "outputId": "9b07cbdd-084b-4b86-85f5-dc9b43e15d39"
      },
      "execution_count": null,
      "outputs": [
        {
          "output_type": "stream",
          "name": "stdout",
          "text": [
            "Female    204\n",
            "Male      196\n",
            "Name: Gender, dtype: int64\n"
          ]
        }
      ]
    },
    {
      "cell_type": "code",
      "source": [
        "df.Gender = df.Gender.replace(to_replace = 'Female',value = 1)\n",
        "df.Gender = df.Gender.replace(to_replace = 'Male',value = 0)"
      ],
      "metadata": {
        "id": "-6of2mFizleg"
      },
      "execution_count": null,
      "outputs": []
    },
    {
      "cell_type": "markdown",
      "source": [
        "#Segregating dataset into x and y \n",
        "where x is independent variable\n",
        "and y is dependent variable\n",
        "\n",
        "* The Independent variables are Gender Age and salary \n",
        "* The Targe or the dependant variable is Purchased"
      ],
      "metadata": {
        "id": "cOU3_yVdz-IV"
      }
    },
    {
      "cell_type": "code",
      "source": [
        "x = df[['Gender','Age','EstimatedSalary']]\n",
        "y = df['Purchased']\n",
        "\n",
        "#alternative code \n",
        "#x = df.iloc[:, [2, 3]].values\n",
        "#y = df.iloc[:, 4].values"
      ],
      "metadata": {
        "id": "aYpBlG-OzwBf"
      },
      "execution_count": null,
      "outputs": []
    },
    {
      "cell_type": "markdown",
      "source": [
        "Checking the dimension of the x and y variables "
      ],
      "metadata": {
        "id": "oHXakU9-0_Tu"
      }
    },
    {
      "cell_type": "code",
      "source": [
        "print(\"The dimension of x is \",x.ndim)\n",
        "print(\"The dimension of y is \",y.ndim)"
      ],
      "metadata": {
        "colab": {
          "base_uri": "https://localhost:8080/"
        },
        "id": "DhOU1hPy0qHJ",
        "outputId": "24b515b4-9206-4952-981e-fee6f1b7dfe8"
      },
      "execution_count": null,
      "outputs": [
        {
          "output_type": "stream",
          "name": "stdout",
          "text": [
            "The dimension of x is  2\n",
            "The dimension of y is  1\n"
          ]
        }
      ]
    },
    {
      "cell_type": "markdown",
      "source": [
        "#Splitting the dataset into Train and Test parts"
      ],
      "metadata": {
        "id": "IgHDmTIn1YTq"
      }
    },
    {
      "cell_type": "code",
      "source": [
        "from sklearn.model_selection import train_test_split\n",
        "x_train, x_test, y_train, y_test = train_test_split(x,y,test_size=0.2,random_state=0)"
      ],
      "metadata": {
        "id": "o_qlpBsM03bt"
      },
      "execution_count": null,
      "outputs": []
    },
    {
      "cell_type": "markdown",
      "source": [
        "#Feature Scaling\n",
        "we scale our data to make all the features contribute equally to the result\n",
        "\n",
        "\n",
        "*   fit.transform - fit method is calculating the mean and variance of each of the feature present in our data\n",
        "*   transform - transform method is transforming all the features using the repective mean and variance \n",
        "\n",
        "we want our test to be a completely new and surprise set for our model\n",
        "\n"
      ],
      "metadata": {
        "id": "a3Y7QwKA2Jw1"
      }
    },
    {
      "cell_type": "code",
      "source": [
        "from sklearn.preprocessing import StandardScaler \n",
        "sc = StandardScaler()\n",
        "x_train = sc.fit_transform(x_train)\n",
        "x_test = sc.transform(x_test)"
      ],
      "metadata": {
        "id": "ZA3S489s2Ac-"
      },
      "execution_count": null,
      "outputs": []
    },
    {
      "cell_type": "markdown",
      "source": [
        "#Training the model"
      ],
      "metadata": {
        "id": "hz36DBSG3yZM"
      }
    },
    {
      "cell_type": "code",
      "source": [
        "from sklearn.linear_model import LogisticRegression\n",
        "model = LogisticRegression(random_state=0)\n",
        "model.fit(x_train,y_train)"
      ],
      "metadata": {
        "colab": {
          "base_uri": "https://localhost:8080/"
        },
        "id": "is6xmO6N3b8C",
        "outputId": "1439e18a-ab43-479a-9107-eae45c97433f"
      },
      "execution_count": null,
      "outputs": [
        {
          "output_type": "execute_result",
          "data": {
            "text/plain": [
              "LogisticRegression(random_state=0)"
            ]
          },
          "metadata": {},
          "execution_count": 11
        }
      ]
    },
    {
      "cell_type": "markdown",
      "source": [
        "#Testing the model"
      ],
      "metadata": {
        "id": "Z-4Gsau24FmC"
      }
    },
    {
      "cell_type": "code",
      "source": [
        "y_pred = model.predict(x_test)"
      ],
      "metadata": {
        "id": "LVn_nlv64FE1"
      },
      "execution_count": null,
      "outputs": []
    },
    {
      "cell_type": "code",
      "source": [
        "y_test = np.array(y_test)\n",
        "num = np.concatenate((y_pred.reshape(len(y_pred),1),y_test.reshape(len(y_test),1)),1)\n",
        "print(num)"
      ],
      "metadata": {
        "colab": {
          "base_uri": "https://localhost:8080/"
        },
        "id": "HNm9l4C9HZN4",
        "outputId": "fe204df4-8814-4508-a612-099ebbec9131"
      },
      "execution_count": null,
      "outputs": [
        {
          "output_type": "stream",
          "name": "stdout",
          "text": [
            "[[0 0]\n",
            " [0 0]\n",
            " [0 0]\n",
            " [0 0]\n",
            " [0 0]\n",
            " [0 0]\n",
            " [0 0]\n",
            " [1 1]\n",
            " [0 0]\n",
            " [1 0]\n",
            " [0 0]\n",
            " [0 0]\n",
            " [0 0]\n",
            " [0 0]\n",
            " [0 0]\n",
            " [0 0]\n",
            " [0 0]\n",
            " [0 0]\n",
            " [1 1]\n",
            " [0 0]\n",
            " [0 0]\n",
            " [1 1]\n",
            " [0 0]\n",
            " [1 1]\n",
            " [0 0]\n",
            " [1 1]\n",
            " [0 0]\n",
            " [0 0]\n",
            " [0 0]\n",
            " [0 0]\n",
            " [0 0]\n",
            " [0 1]\n",
            " [1 1]\n",
            " [0 0]\n",
            " [0 0]\n",
            " [0 0]\n",
            " [0 0]\n",
            " [0 0]\n",
            " [0 0]\n",
            " [1 1]\n",
            " [0 0]\n",
            " [0 0]\n",
            " [0 0]\n",
            " [0 0]\n",
            " [1 1]\n",
            " [0 0]\n",
            " [0 0]\n",
            " [1 1]\n",
            " [0 0]\n",
            " [1 1]\n",
            " [1 1]\n",
            " [0 0]\n",
            " [0 0]\n",
            " [0 0]\n",
            " [1 1]\n",
            " [0 1]\n",
            " [0 0]\n",
            " [0 0]\n",
            " [0 1]\n",
            " [0 0]\n",
            " [0 0]\n",
            " [1 1]\n",
            " [0 0]\n",
            " [0 1]\n",
            " [0 0]\n",
            " [1 1]\n",
            " [0 0]\n",
            " [0 0]\n",
            " [0 0]\n",
            " [0 0]\n",
            " [1 1]\n",
            " [0 0]\n",
            " [0 0]\n",
            " [0 1]\n",
            " [0 0]\n",
            " [0 0]\n",
            " [1 0]\n",
            " [0 0]\n",
            " [1 1]\n",
            " [1 1]]\n"
          ]
        }
      ]
    },
    {
      "cell_type": "markdown",
      "source": [
        "#Checking the accuracy of the model "
      ],
      "metadata": {
        "id": "kESvf0Z4IcOr"
      }
    },
    {
      "cell_type": "code",
      "source": [
        "from sklearn.metrics import confusion_matrix, accuracy_score\n",
        "cm = confusion_matrix(y_test,y_pred)\n",
        "\n",
        "print(\"confusion matrix :\")\n",
        "print(cm)\n",
        "\n",
        "print(\"Accuracy of the model is {0}%\".format(accuracy_score(y_test,y_pred)*100))"
      ],
      "metadata": {
        "colab": {
          "base_uri": "https://localhost:8080/"
        },
        "id": "PSqzNLIkIg4s",
        "outputId": "604bb734-8576-4cd0-9fd8-6649604d81bd"
      },
      "execution_count": null,
      "outputs": [
        {
          "output_type": "stream",
          "name": "stdout",
          "text": [
            "confusion matrix :\n",
            "[[56  2]\n",
            " [ 5 17]]\n",
            "Accuracy of the model is 91.25%\n"
          ]
        }
      ]
    },
    {
      "cell_type": "markdown",
      "source": [
        "#Predicting by taking the inputs"
      ],
      "metadata": {
        "id": "HwUj_nNB4Z-S"
      }
    },
    {
      "cell_type": "code",
      "source": [
        "age = int(input(\"Enter the Age of the customer :\"))\n",
        "gender = input(\"Enter the Gender of the customer :\")\n",
        "sal = int(input(\"Enter the Salary of the customer :\"))\n",
        "if(gender=='Male'or gender=='male'):\n",
        "  gender = 0\n",
        "else:\n",
        "  gender = 1\n",
        "newcust = [[gender,age,sal]]\n",
        "result = model.predict(sc.transform(newcust))\n",
        "if result==1:\n",
        "  print(\"The customer will buy the product\")\n",
        "else:\n",
        "  print(\"The customer will not but the product\")"
      ],
      "metadata": {
        "colab": {
          "base_uri": "https://localhost:8080/"
        },
        "id": "Ww_pK0jO4gdw",
        "outputId": "f9a49131-cdd6-461e-dbcb-29e88251414b"
      },
      "execution_count": null,
      "outputs": [
        {
          "output_type": "stream",
          "name": "stdout",
          "text": [
            "Enter the Age of the customer :32\n",
            "Enter the Gender of the customer :female\n",
            "Enter the Salary of the customer :\t150000\n",
            "The customer will buy the product\n"
          ]
        }
      ]
    }
  ],
  "metadata": {
    "colab": {
      "name": "logistic Regression.ipynb",
      "provenance": [],
      "collapsed_sections": [],
      "authorship_tag": "ABX9TyM56xEQcoYdPSrDkQ22YjgL",
      "include_colab_link": true
    },
    "kernelspec": {
      "display_name": "Python 3",
      "name": "python3"
    },
    "language_info": {
      "name": "python"
    }
  },
  "nbformat": 4,
  "nbformat_minor": 0
}